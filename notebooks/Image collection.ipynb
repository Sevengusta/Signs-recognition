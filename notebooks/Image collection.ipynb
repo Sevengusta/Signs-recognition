{
 "cells": [
  {
   "cell_type": "markdown",
   "metadata": {},
   "source": [
    "## Part 1 install and import all dependencies"
   ]
  },
  {
   "cell_type": "code",
   "execution_count": 45,
   "metadata": {},
   "outputs": [],
   "source": [
    "import cv2 \n",
    "import uuid\n",
    "import os\n",
    "import time"
   ]
  },
  {
   "cell_type": "markdown",
   "metadata": {},
   "source": [
    "## 2. Setup Folders\n"
   ]
  },
  {
   "cell_type": "code",
   "execution_count": 46,
   "metadata": {},
   "outputs": [],
   "source": [
    "labels = [\"positivo\", \"negativo\", \"tesoura\", \"indicador\"]\n",
    "number_imgs = 5"
   ]
  },
  {
   "cell_type": "code",
   "execution_count": 47,
   "metadata": {},
   "outputs": [],
   "source": [
    "IMAGES_PATH = os.path.join('Tensorflow', 'workspace', 'images', 'collectedimages')\n"
   ]
  },
  {
   "cell_type": "code",
   "execution_count": 48,
   "metadata": {},
   "outputs": [],
   "source": [
    "# Check if the main images directory exists\n",
    "if not os.path.exists(IMAGES_PATH):\n",
    "    os.makedirs(IMAGES_PATH)  # This works for both Windows and POSIX\n",
    "\n",
    "# Create directories for each label\n",
    "for label in labels:\n",
    "    path = os.path.join(IMAGES_PATH, label)\n",
    "    if not os.path.exists(path):\n",
    "        os.makedirs(path)  # This will create the label directory if it doesn't exist"
   ]
  },
  {
   "cell_type": "markdown",
   "metadata": {},
   "source": [
    "## Part 3: Capture Images"
   ]
  },
  {
   "cell_type": "code",
   "execution_count": 59,
   "metadata": {},
   "outputs": [
    {
     "name": "stdout",
     "output_type": "stream",
     "text": [
      "Collecting images for positivo\n",
      "Collecting image 0\n",
      "Collecting image 1\n",
      "Collecting image 2\n",
      "Collecting image 3\n",
      "Collecting image 4\n",
      "Collecting images for negativo\n",
      "Collecting image 0\n",
      "Collecting image 1\n",
      "Collecting image 2\n",
      "Collecting image 3\n",
      "Collecting image 4\n",
      "Collecting images for tesoura\n",
      "Collecting image 0\n",
      "Collecting image 1\n",
      "Collecting image 2\n",
      "Collecting image 3\n",
      "Collecting image 4\n",
      "Collecting images for indicador\n",
      "Collecting image 0\n",
      "Collecting image 1\n",
      "Collecting image 2\n",
      "Collecting image 3\n",
      "Collecting image 4\n"
     ]
    }
   ],
   "source": [
    "for label in labels:\n",
    "    cap = cv2.VideoCapture(0)\n",
    "    print('Collecting images for {}'.format(label))\n",
    "    time.sleep(5)\n",
    "    for imgnum in range(number_imgs):\n",
    "        print('Collecting image {}'.format(imgnum))\n",
    "        ret, frame = cap.read()\n",
    "        imgname = os.path.join(IMAGES_PATH,label,label+'.'+'{}.jpg'.format(str(uuid.uuid1())))\n",
    "        cv2.imwrite(imgname, frame)\n",
    "        cv2.imshow('frame', frame)\n",
    "        time.sleep(2)\n",
    "\n",
    "        if cv2.waitKey(1) & 0xFF == ord('q'):\n",
    "            break\n",
    "cap.release()\n",
    "cv2.destroyAllWindows()"
   ]
  },
  {
   "cell_type": "markdown",
   "metadata": {},
   "source": [
    "## 4. Image Labelling"
   ]
  },
  {
   "cell_type": "code",
   "execution_count": 50,
   "metadata": {},
   "outputs": [],
   "source": [
    "LABELIMG_PATH = os.path.join('Tensorflow', 'labelimg')"
   ]
  },
  {
   "cell_type": "code",
   "execution_count": 51,
   "metadata": {},
   "outputs": [],
   "source": [
    "# if not os.path.exists(LABELIMG_PATH):\n",
    "#     !mkdir {LABELIMG_PATH}\n",
    "#     !git clone https://github.com/tzutalin/labelImg {LABELIMG_PATH}"
   ]
  },
  {
   "cell_type": "code",
   "execution_count": 57,
   "metadata": {},
   "outputs": [],
   "source": [
    "# if os.name == 'posix':\n",
    "#     !make qt5py3\n",
    "# if os.name =='nt':\n",
    "#     !cd {LABELIMG_PATH} && pyrcc5 -o libs/resources.py resources.qrc"
   ]
  },
  {
   "cell_type": "code",
   "execution_count": 60,
   "metadata": {},
   "outputs": [
    {
     "name": "stdout",
     "output_type": "stream",
     "text": [
      "Image:C:\\Users\\GPGHC\\Downloads\\Projetos pessoais\\Signs-recognition\\notebooks\\Tensorflow\\workspace\\images\\collectedimages\\tesoura\\tesoura.2f330db0-84c5-11ef-b133-641c67d88115.jpg -> Annotation:C:/Users/GPGHC/Downloads/Projetos pessoais/Signs-recognition/notebooks/Tensorflow/workspace/images/collectedimages/tesoura\\tesoura.2f330db0-84c5-11ef-b133-641c67d88115.xml\n",
      "Image:C:\\Users\\GPGHC\\Downloads\\Projetos pessoais\\Signs-recognition\\notebooks\\Tensorflow\\workspace\\images\\collectedimages\\tesoura\\tesoura.8d979653-84c3-11ef-bad8-641c67d88115.jpg -> Annotation:C:/Users/GPGHC/Downloads/Projetos pessoais/Signs-recognition/notebooks/Tensorflow/workspace/images/collectedimages/tesoura\\tesoura.8d979653-84c3-11ef-bad8-641c67d88115.xml\n",
      "Image:C:\\Users\\GPGHC\\Downloads\\Projetos pessoais\\Signs-recognition\\notebooks\\Tensorflow\\workspace\\images\\collectedimages\\tesoura\\tesoura.319c77cd-84c5-11ef-b6c8-641c67d88115.jpg -> Annotation:C:/Users/GPGHC/Downloads/Projetos pessoais/Signs-recognition/notebooks/Tensorflow/workspace/images/collectedimages/tesoura\\tesoura.319c77cd-84c5-11ef-b6c8-641c67d88115.xml\n",
      "Image:C:\\Users\\GPGHC\\Downloads\\Projetos pessoais\\Signs-recognition\\notebooks\\Tensorflow\\workspace\\images\\collectedimages\\tesoura\\tesoura.3403bb65-84c5-11ef-8298-641c67d88115.jpg -> Annotation:C:/Users/GPGHC/Downloads/Projetos pessoais/Signs-recognition/notebooks/Tensorflow/workspace/images/collectedimages/tesoura\\tesoura.3403bb65-84c5-11ef-8298-641c67d88115.xml\n"
     ]
    }
   ],
   "source": [
    "!cd {LABELIMG_PATH} && python labelImg.py\n"
   ]
  },
  {
   "cell_type": "code",
   "execution_count": 54,
   "metadata": {},
   "outputs": [],
   "source": [
    "# http://vis-www.cs.umass.edu/lfw/ where all images came from."
   ]
  },
  {
   "cell_type": "code",
   "execution_count": 55,
   "metadata": {},
   "outputs": [],
   "source": [
    "# Import standard dependencies\n",
    "import cv2\n",
    "import os\n",
    "import random\n",
    "import numpy as np\n",
    "from matplotlib import pyplot as plt\n",
    "\n",
    "# Import tensorflow dependencies - Functional API\n",
    "from tensorflow.keras.models import Model\n",
    "from tensorflow.keras.layers import Layer, Conv2D, Dense, MaxPooling2D, Input, Flatten\n",
    "import tensorflow as tf"
   ]
  }
 ],
 "metadata": {
  "kernelspec": {
   "display_name": "Python 3",
   "language": "python",
   "name": "python3"
  },
  "language_info": {
   "codemirror_mode": {
    "name": "ipython",
    "version": 3
   },
   "file_extension": ".py",
   "mimetype": "text/x-python",
   "name": "python",
   "nbconvert_exporter": "python",
   "pygments_lexer": "ipython3",
   "version": "3.12.2"
  }
 },
 "nbformat": 4,
 "nbformat_minor": 2
}
